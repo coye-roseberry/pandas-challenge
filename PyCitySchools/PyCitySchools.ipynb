{
 "cells": [
  {
   "cell_type": "markdown",
   "metadata": {},
   "source": [
    "### Note\n",
    "* Instructions have been included for each segment. You do not have to follow them exactly, but they are included to help you think through the steps."
   ]
  },
  {
   "cell_type": "code",
   "execution_count": null,
   "metadata": {},
   "outputs": [],
   "source": [
    "# Dependencies and Setup\n",
    "import pandas as pd\n",
    "\n",
    "# File to Load (Remember to Change These)\n",
    "school_data_to_load = \"Resources/schools_complete.csv\"\n",
    "student_data_to_load = \"Resources/students_complete.csv\"\n",
    "\n",
    "# Read School and Student Data File and store into Pandas DataFrames\n",
    "school_data = pd.read_csv(school_data_to_load)\n",
    "student_data = pd.read_csv(student_data_to_load)\n",
    "\n",
    "# Combine the data into a single dataset.  \n",
    "school_data_complete = pd.merge(student_data, school_data, how=\"left\", on=[\"school_name\", \"school_name\"])"
   ]
  },
  {
   "cell_type": "code",
   "execution_count": null,
   "metadata": {},
   "outputs": [],
   "source": [
    "school_data_complete"
   ]
  },
  {
   "cell_type": "markdown",
   "metadata": {},
   "source": [
    "## District Summary\n",
    "\n",
    "* Calculate the total number of schools\n",
    "\n",
    "* Calculate the total number of students\n",
    "\n",
    "* Calculate the total budget\n",
    "\n",
    "* Calculate the average math score \n",
    "\n",
    "* Calculate the average reading score\n",
    "\n",
    "* Calculate the percentage of students with a passing math score (70 or greater)\n",
    "\n",
    "* Calculate the percentage of students with a passing reading score (70 or greater)\n",
    "\n",
    "* Calculate the percentage of students who passed math **and** reading (% Overall Passing)\n",
    "\n",
    "* Create a dataframe to hold the above results\n",
    "\n",
    "* Optional: give the displayed data cleaner formatting"
   ]
  },
  {
   "cell_type": "code",
   "execution_count": null,
   "metadata": {},
   "outputs": [],
   "source": [
    "total_students = len(school_data_complete['student_name'])\n",
    "total_students"
   ]
  },
  {
   "cell_type": "code",
   "execution_count": null,
   "metadata": {},
   "outputs": [],
   "source": [
    "school_list = []\n",
    "[school_list.append(x) for x in school_data_complete['school_name'] if x not in school_list]\n",
    "total_schools = len(school_list)\n",
    "total_schools"
   ]
  },
  {
   "cell_type": "code",
   "execution_count": null,
   "metadata": {},
   "outputs": [],
   "source": [
    "unique_budgets = school_data_complete['budget'].unique()\n",
    "total_budget = 0\n",
    "for budget in unique_budgets:\n",
    "    total_budget = total_budget + budget\n",
    "\n",
    "total_budget"
   ]
  },
  {
   "cell_type": "code",
   "execution_count": null,
   "metadata": {},
   "outputs": [],
   "source": [
    "#avg math score\n",
    "average_math_score = school_data_complete['math_score'].mean()\n",
    "average_math_score"
   ]
  },
  {
   "cell_type": "code",
   "execution_count": null,
   "metadata": {},
   "outputs": [],
   "source": [
    "#avg reading score\n",
    "average_reading_score = school_data_complete['reading_score'].mean()\n",
    "average_reading_score"
   ]
  },
  {
   "cell_type": "code",
   "execution_count": null,
   "metadata": {},
   "outputs": [],
   "source": [
    "# % students passing math score\n",
    "bins = [0,69.9,100]\n",
    "group_names = ['Failing', 'Passing']\n",
    "\n",
    "math_output = pd.cut(school_data_complete[\"math_score\"], bins, labels=group_names, include_lowest=True)\n",
    "math_failing = 0\n",
    "math_passing = 0\n",
    "\n",
    "for grade in math_output:\n",
    "    if grade == 'Passing':\n",
    "        math_passing = math_passing + 1\n",
    "    elif grade == 'Failing':\n",
    "        math_failing = math_failing + 1\n",
    "\n",
    "percent_passing_math = (math_passing/total_students) * 100\n",
    "\n",
    "percent_passing_math"
   ]
  },
  {
   "cell_type": "code",
   "execution_count": null,
   "metadata": {},
   "outputs": [],
   "source": [
    "# % students passing reading score\n",
    "\n",
    "# % students passing math score\n",
    "bins = [0,69.9,100]\n",
    "group_names = ['Failing', 'Passing']\n",
    "\n",
    "reading_output = pd.cut(school_data_complete[\"reading_score\"], bins, labels=group_names, include_lowest=True)\n",
    "reading_failing = 0\n",
    "reading_passing = 0\n",
    "\n",
    "for grade in reading_output:\n",
    "    if grade == 'Passing':\n",
    "        reading_passing = reading_passing + 1\n",
    "    elif grade == 'Failing':\n",
    "        reading_failing = reading_failing + 1\n",
    "\n",
    "percent_passing_reading = (reading_passing/total_students) * 100\n",
    "\n",
    "percent_passing_reading\n",
    "#reading_output"
   ]
  },
  {
   "cell_type": "code",
   "execution_count": null,
   "metadata": {},
   "outputs": [],
   "source": [
    "# % students passing math and reading score (Overall passing score)\n",
    "grade_df = pd.DataFrame({\"Student ID\":school_data_complete['Student ID'],\"reading_grade\":reading_output, \"math_grade\":math_output})\n",
    "overall_passing = 0\n",
    "passing_both = grade_df.loc[(grade_df[\"reading_grade\"] == 'Passing') & (grade_df[\"math_grade\"]==\"Passing\"), :]\n",
    "\n",
    "for student in passing_both['Student ID']:\n",
    "    overall_passing = overall_passing +1\n",
    "\n",
    "\n",
    "percent_passing_overall = (overall_passing/total_students) * 100\n",
    "\n",
    "percent_passing_overall\n",
    "\n",
    "\n",
    "\n"
   ]
  },
  {
   "cell_type": "code",
   "execution_count": null,
   "metadata": {},
   "outputs": [],
   "source": [
    "# Dataframe to hold results\n",
    "\n",
    "district_summary_df = pd.DataFrame({\"Total Schools\":[total_schools], \"Total Students\":[total_students], \"Total Budget\":[total_budget], \"Average Math Score\":[average_math_score], \"Average Reading Score\":[average_reading_score], \"% Passing Math\":[percent_passing_math], \"% Passing Reading\":[percent_passing_reading], \"% Overall Passing\":[percent_passing_overall]})\n",
    "district_summary_df"
   ]
  },
  {
   "cell_type": "code",
   "execution_count": null,
   "metadata": {},
   "outputs": [],
   "source": []
  },
  {
   "cell_type": "markdown",
   "metadata": {},
   "source": [
    "## School Summary"
   ]
  },
  {
   "cell_type": "markdown",
   "metadata": {},
   "source": [
    "* Create an overview table that summarizes key metrics about each school, including:\n",
    "  * School Name\n",
    "  * School Type\n",
    "  * Total Students\n",
    "  * Total School Budget\n",
    "  * Per Student Budget\n",
    "  * Average Math Score\n",
    "  * Average Reading Score\n",
    "  * % Passing Math\n",
    "  * % Passing Reading\n",
    "  * % Overall Passing (The percentage of students that passed math **and** reading.)\n",
    "  \n",
    "* Create a dataframe to hold the above results"
   ]
  },
  {
   "cell_type": "code",
   "execution_count": null,
   "metadata": {},
   "outputs": [],
   "source": [
    "grouped_school_df = school_data_complete.groupby(['school_name'])"
   ]
  },
  {
   "cell_type": "code",
   "execution_count": null,
   "metadata": {},
   "outputs": [],
   "source": [
    "unique_school_names = grouped_school_df['school_name'].first()\n",
    "unique_school_names"
   ]
  },
  {
   "cell_type": "code",
   "execution_count": null,
   "metadata": {},
   "outputs": [],
   "source": [
    "school_type = grouped_school_df['type'].last()\n",
    "school_type"
   ]
  },
  {
   "cell_type": "code",
   "execution_count": null,
   "metadata": {},
   "outputs": [],
   "source": [
    "school_total_students = grouped_school_df['student_name'].count()\n",
    "school_total_students"
   ]
  },
  {
   "cell_type": "code",
   "execution_count": null,
   "metadata": {},
   "outputs": [],
   "source": [
    "school_total_budget = grouped_school_df['budget'].last()\n",
    "school_total_budget"
   ]
  },
  {
   "cell_type": "code",
   "execution_count": null,
   "metadata": {},
   "outputs": [],
   "source": [
    "per_student_budget = school_total_budget/school_total_students\n",
    "per_student_budget"
   ]
  },
  {
   "cell_type": "code",
   "execution_count": null,
   "metadata": {},
   "outputs": [],
   "source": [
    "#avg math score\n",
    "school_avg_math_score = grouped_school_df['math_score'].mean()\n",
    "school_avg_math_score"
   ]
  },
  {
   "cell_type": "code",
   "execution_count": null,
   "metadata": {},
   "outputs": [],
   "source": [
    "#avg reading score\n",
    "school_avg_reading_score = grouped_school_df['reading_score'].mean()\n",
    "school_avg_reading_score"
   ]
  },
  {
   "cell_type": "code",
   "execution_count": null,
   "metadata": {},
   "outputs": [],
   "source": [
    "#print(grouped_school_df['math_score'].value_counts())\n",
    "math_score_subset = school_data_complete.loc[(school_data_complete['math_score']>=70),:]\n",
    "math_score_subset_grouped = math_score_subset.groupby(['school_name'])\n",
    "passing_math_grouped = math_score_subset_grouped['math_score'].count()\n",
    "\n",
    "percentage_passing_math_grouped = passing_math_grouped/school_total_students * 100\n",
    "\n",
    "percentage_passing_math_grouped"
   ]
  },
  {
   "cell_type": "code",
   "execution_count": null,
   "metadata": {},
   "outputs": [],
   "source": [
    "# % passing reading\n",
    "\n",
    "reading_score_subset = school_data_complete.loc[(school_data_complete['reading_score']>=70),:]\n",
    "reading_score_subset_grouped = reading_score_subset.groupby(['school_name'])\n",
    "passing_reading_grouped = reading_score_subset_grouped['reading_score'].count()\n",
    "\n",
    "percentage_passing_reading_grouped = passing_reading_grouped/school_total_students * 100\n",
    "\n",
    "percentage_passing_reading_grouped"
   ]
  },
  {
   "cell_type": "code",
   "execution_count": null,
   "metadata": {},
   "outputs": [],
   "source": [
    "# % overall passing\n",
    "\n",
    "overall_score_subset = school_data_complete.loc[((school_data_complete['math_score']>=70)&(school_data_complete['reading_score']>=70)),:]\n",
    "overall_score_subset_grouped = overall_score_subset.groupby(['school_name'])\n",
    "passing_overall_grouped = overall_score_subset_grouped['student_name'].count()\n",
    "\n",
    "percentage_passing_overall_grouped = passing_overall_grouped/school_total_students * 100\n",
    "\n",
    "percentage_passing_overall_grouped"
   ]
  },
  {
   "cell_type": "code",
   "execution_count": null,
   "metadata": {},
   "outputs": [],
   "source": [
    "school_summary_df = pd.DataFrame({\"School Name\":unique_school_names,\"School Type\":school_type, \"Total Students\":school_total_students, \"Total School Budget\": school_total_budget, \"Per Student Budget\": per_student_budget, \"Average Math Score\": school_avg_math_score, \"Average Reading Score\": school_avg_reading_score, \"% Passing Math\":percentage_passing_math_grouped, \"% Passing Reading\":percentage_passing_reading_grouped, \"% Overall Passing\":percentage_passing_overall_grouped})\n",
    "school_summary_df = school_summary_df.set_index('School Name')\n",
    "\n",
    "school_summary_df.index.name = None\n",
    "school_summary_df"
   ]
  },
  {
   "cell_type": "code",
   "execution_count": null,
   "metadata": {},
   "outputs": [],
   "source": []
  },
  {
   "cell_type": "markdown",
   "metadata": {},
   "source": [
    "## Top Performing Schools (By % Overall Passing)"
   ]
  },
  {
   "cell_type": "markdown",
   "metadata": {},
   "source": [
    "* Sort and display the top five performing schools by % overall passing."
   ]
  },
  {
   "cell_type": "code",
   "execution_count": null,
   "metadata": {},
   "outputs": [],
   "source": [
    "top_performing_df = school_summary_df.sort_values('% Overall Passing', ascending = False)\n",
    "top_performing_df.head(5)"
   ]
  },
  {
   "cell_type": "code",
   "execution_count": null,
   "metadata": {
    "scrolled": true
   },
   "outputs": [],
   "source": []
  },
  {
   "cell_type": "markdown",
   "metadata": {},
   "source": [
    "## Bottom Performing Schools (By % Overall Passing)"
   ]
  },
  {
   "cell_type": "markdown",
   "metadata": {},
   "source": [
    "* Sort and display the five worst-performing schools by % overall passing."
   ]
  },
  {
   "cell_type": "code",
   "execution_count": null,
   "metadata": {},
   "outputs": [],
   "source": [
    "bottom_performing_df = school_summary_df.sort_values('% Overall Passing')\n",
    "bottom_performing_df.head(5)"
   ]
  },
  {
   "cell_type": "markdown",
   "metadata": {
    "collapsed": true
   },
   "source": [
    "## Math Scores by Grade"
   ]
  },
  {
   "cell_type": "markdown",
   "metadata": {},
   "source": [
    "* Create a table that lists the average Reading Score for students of each grade level (9th, 10th, 11th, 12th) at each school.\n",
    "\n",
    "  * Create a pandas series for each grade. Hint: use a conditional statement.\n",
    "  \n",
    "  * Group each series by school\n",
    "  \n",
    "  * Combine the series into a dataframe\n",
    "  \n",
    "  * Optional: give the displayed data cleaner formatting"
   ]
  },
  {
   "cell_type": "code",
   "execution_count": null,
   "metadata": {},
   "outputs": [],
   "source": [
    "ninth = school_data_complete.loc[(school_data_complete['grade'] == '9th'), : ]\n",
    "\n",
    "ninth_grouped = ninth.groupby(['school_name'])\n",
    "\n",
    "ninth_avg_math = ninth_grouped['math_score'].mean()\n",
    "ninth_avg_math"
   ]
  },
  {
   "cell_type": "code",
   "execution_count": null,
   "metadata": {},
   "outputs": [],
   "source": [
    "tenth = school_data_complete.loc[(school_data_complete['grade'] == '10th'), : ]\n",
    "\n",
    "tenth_grouped = tenth.groupby(['school_name'])\n",
    "\n",
    "tenth_avg_math = tenth_grouped['math_score'].mean()\n",
    "tenth_avg_math"
   ]
  },
  {
   "cell_type": "code",
   "execution_count": null,
   "metadata": {},
   "outputs": [],
   "source": [
    "eleventh = school_data_complete.loc[(school_data_complete['grade'] == '11th'), : ]\n",
    "\n",
    "eleventh_grouped = eleventh.groupby(['school_name'])\n",
    "\n",
    "eleventh_avg_math = eleventh_grouped['math_score'].mean()\n",
    "eleventh_avg_math"
   ]
  },
  {
   "cell_type": "code",
   "execution_count": null,
   "metadata": {},
   "outputs": [],
   "source": [
    "twelfth = school_data_complete.loc[(school_data_complete['grade'] == '12th'), : ]\n",
    "\n",
    "twelfth_grouped = twelfth.groupby(['school_name'])\n",
    "\n",
    "twelfth_avg_math = twelfth_grouped['math_score'].mean()\n",
    "twelfth_avg_math"
   ]
  },
  {
   "cell_type": "code",
   "execution_count": null,
   "metadata": {},
   "outputs": [],
   "source": [
    "math_score_by_grade = pd.merge(ninth_avg_math, tenth_avg_math, on='school_name')\n",
    "math_score_by_grade = math_score_by_grade.rename(columns={\"math_score_x\":\"9th\", \"math_score_y\":\"10th\"})\n",
    "math_score_by_grade = pd.merge(math_score_by_grade, eleventh_avg_math, on='school_name')\n",
    "math_score_by_grade = pd.merge(math_score_by_grade, twelfth_avg_math, on='school_name')\n",
    "math_score_by_grade = math_score_by_grade.rename(columns={\"math_score_x\":\"11th\", \"math_score_y\":\"12th\"})\n",
    "math_score_by_grade.index.name = None\n",
    "math_score_by_grade"
   ]
  },
  {
   "cell_type": "markdown",
   "metadata": {},
   "source": [
    "## Reading Score by Grade "
   ]
  },
  {
   "cell_type": "code",
   "execution_count": null,
   "metadata": {},
   "outputs": [],
   "source": [
    "ninth_reading = school_data_complete.loc[(school_data_complete['grade'] == '9th'), : ]\n",
    "\n",
    "ninth_reading_grouped = ninth_reading.groupby(['school_name'])\n",
    "\n",
    "ninth_avg_reading = ninth_reading_grouped['reading_score'].mean()\n",
    "ninth_avg_reading"
   ]
  },
  {
   "cell_type": "code",
   "execution_count": null,
   "metadata": {},
   "outputs": [],
   "source": [
    "tenth_reading = school_data_complete.loc[(school_data_complete['grade'] == '10th'), : ]\n",
    "\n",
    "tenth_reading_grouped = tenth_reading.groupby(['school_name'])\n",
    "\n",
    "tenth_avg_reading = tenth_reading_grouped['reading_score'].mean()\n",
    "tenth_avg_reading"
   ]
  },
  {
   "cell_type": "code",
   "execution_count": null,
   "metadata": {},
   "outputs": [],
   "source": [
    "eleventh_reading = school_data_complete.loc[(school_data_complete['grade'] == '11th'), : ]\n",
    "\n",
    "eleventh_reading_grouped = eleventh_reading.groupby(['school_name'])\n",
    "\n",
    "eleventh_avg_reading = eleventh_reading_grouped['reading_score'].mean()\n",
    "eleventh_avg_reading"
   ]
  },
  {
   "cell_type": "code",
   "execution_count": null,
   "metadata": {},
   "outputs": [],
   "source": [
    "twelfth_reading = school_data_complete.loc[(school_data_complete['grade'] == '12th'), : ]\n",
    "\n",
    "twelfth_reading_grouped = twelfth_reading.groupby(['school_name'])\n",
    "\n",
    "twelfth_avg_reading = twelfth_reading_grouped['reading_score'].mean()\n",
    "twelfth_avg_reading"
   ]
  },
  {
   "cell_type": "code",
   "execution_count": null,
   "metadata": {},
   "outputs": [],
   "source": [
    "reading_score_by_grade = pd.merge(ninth_avg_reading, tenth_avg_reading, on='school_name')\n",
    "reading_score_by_grade = reading_score_by_grade.rename(columns={\"reading_score_x\":\"9th\", \"reading_score_y\":\"10th\"})\n",
    "reading_score_by_grade = pd.merge(reading_score_by_grade, eleventh_avg_reading, on='school_name')\n",
    "reading_score_by_grade = pd.merge(reading_score_by_grade, twelfth_avg_reading, on='school_name')\n",
    "reading_score_by_grade = reading_score_by_grade.rename(columns={\"reading_score_x\":\"11th\", \"reading_score_y\":\"12th\"})\n",
    "reading_score_by_grade.index.name = None\n",
    "reading_score_by_grade"
   ]
  },
  {
   "cell_type": "markdown",
   "metadata": {},
   "source": [
    "## Scores by School Spending"
   ]
  },
  {
   "cell_type": "markdown",
   "metadata": {},
   "source": [
    "* Create a table that breaks down school performances based on average Spending Ranges (Per Student). Use 4 reasonable bins to group school spending. Include in the table each of the following:\n",
    "  * Average Math Score\n",
    "  * Average Reading Score\n",
    "  * % Passing Math\n",
    "  * % Passing Reading\n",
    "  * Overall Passing Rate (Average of the above two)"
   ]
  },
  {
   "cell_type": "code",
   "execution_count": null,
   "metadata": {},
   "outputs": [],
   "source": [
    "spending_bins = [0, 584.9,629.9,644.9,680]\n",
    "school_spending_groups = ['<$585', '$585-630','$630-645','$645-680']\n",
    "\n",
    "scores_by_spending = school_summary_df.groupby(pd.cut(school_summary_df[\"Per Student Budget\"], spending_bins, labels=school_spending_groups))\n",
    "\n",
    "spending_avg_math = scores_by_spending['Average Math Score'].mean()\n",
    "spending_avg_reading = scores_by_spending['Average Reading Score'].mean()\n",
    "spending_percent_math = scores_by_spending['% Passing Math'].mean()\n",
    "spending_percent_reading = scores_by_spending['% Passing Reading'].mean()\n",
    "spending_percent_overall = scores_by_spending['% Overall Passing'].mean()\n",
    "\n",
    "scores_by_school_spending_df = pd.DataFrame({'Average Math Score':spending_avg_math, 'Average Reading Score':spending_avg_reading, '% Passing Math':spending_percent_math, '% Passing Reading':spending_percent_reading, '% Overall Passing':spending_percent_overall})\n",
    "\n",
    "\n",
    "scores_by_school_spending_df.index.name = 'Spending Ranges (Per Student)'\n",
    "scores_by_school_spending_df\n",
    "\n"
   ]
  },
  {
   "cell_type": "markdown",
   "metadata": {},
   "source": [
    "## Scores by School Size"
   ]
  },
  {
   "cell_type": "markdown",
   "metadata": {},
   "source": [
    "* Perform the same operations as above, based on school size."
   ]
  },
  {
   "cell_type": "code",
   "execution_count": null,
   "metadata": {
    "scrolled": true
   },
   "outputs": [],
   "source": [
    "size_bins = [0, 999.9,1999.9,5000]\n",
    "size_groups = ['Small (<1000)', 'Medium (1000-2000)', 'Large (2000-5000)']\n",
    "\n",
    "scores_by_size = school_summary_df.groupby(pd.cut(school_summary_df['Total Students'],size_bins,labels=size_groups))\n",
    "\n",
    "size_avg_math = scores_by_size['Average Math Score'].mean()\n",
    "size_avg_reading = scores_by_size['Average Reading Score'].mean()\n",
    "size_percent_math = scores_by_size['% Passing Math'].mean()\n",
    "size_percent_reading = scores_by_size['% Passing Reading'].mean()\n",
    "size_percent_overall = scores_by_size['% Overall Passing'].mean()\n",
    "\n",
    "scores_by_size_df = pd.DataFrame({'Average Math Score':size_avg_math, 'Average Reading Score':size_avg_reading, '% Passing Math':size_percent_math, '% Passing Reading':size_percent_reading, '% Overall Passing':size_percent_overall})\n",
    "scores_by_size_df.index.name = 'School Size'\n",
    "scores_by_size_df"
   ]
  },
  {
   "cell_type": "markdown",
   "metadata": {},
   "source": [
    "## Scores by School Type"
   ]
  },
  {
   "cell_type": "markdown",
   "metadata": {},
   "source": [
    "* Perform the same operations as above, based on school type"
   ]
  },
  {
   "cell_type": "code",
   "execution_count": null,
   "metadata": {},
   "outputs": [],
   "source": [
    "scores_by_type = school_summary_df.groupby(['School Type'])\n",
    "\n",
    "type_avg_math = scores_by_type['Average Math Score'].mean()\n",
    "type_avg_reading = scores_by_type['Average Reading Score'].mean()\n",
    "type_percent_math = scores_by_type['% Passing Math'].mean()\n",
    "type_percent_reading = scores_by_type['% Passing Reading'].mean()\n",
    "type_percent_overall = scores_by_type['% Overall Passing'].mean()\n",
    "\n",
    "scores_by_type_df = pd.DataFrame({'Average Math Score':type_avg_math, 'Average Reading Score':type_avg_reading, '% Passing Math':type_percent_math, '% Passing Reading':type_percent_reading, '% Overall Passing':type_percent_overall})\n",
    "scores_by_type_df.index.name = 'School Type'\n",
    "\n",
    "scores_by_type_df"
   ]
  }
 ],
 "metadata": {
  "anaconda-cloud": {},
  "interpreter": {
   "hash": "e2094152f125268bc958a064fbe92a1188de787ebe03a7f14f859e3d4f2603a0"
  },
  "kernel_info": {
   "name": "python3"
  },
  "kernelspec": {
   "display_name": "Python 3.9.7 64-bit ('base': conda)",
   "language": "python",
   "name": "python3"
  },
  "language_info": {
   "codemirror_mode": {
    "name": "ipython",
    "version": 3
   },
   "file_extension": ".py",
   "mimetype": "text/x-python",
   "name": "python",
   "nbconvert_exporter": "python",
   "pygments_lexer": "ipython3",
   "version": "3.9.7"
  },
  "latex_envs": {
   "LaTeX_envs_menu_present": true,
   "autoclose": false,
   "autocomplete": true,
   "bibliofile": "biblio.bib",
   "cite_by": "apalike",
   "current_citInitial": 1,
   "eqLabelWithNumbers": true,
   "eqNumInitial": 1,
   "hotkeys": {
    "equation": "Ctrl-E",
    "itemize": "Ctrl-I"
   },
   "labels_anchors": false,
   "latex_user_defs": false,
   "report_style_numbering": false,
   "user_envs_cfg": false
  },
  "nteract": {
   "version": "0.8.4"
  }
 },
 "nbformat": 4,
 "nbformat_minor": 1
}
